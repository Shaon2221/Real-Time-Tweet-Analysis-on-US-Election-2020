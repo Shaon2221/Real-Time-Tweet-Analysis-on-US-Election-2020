{
 "cells": [
  {
   "cell_type": "markdown",
   "metadata": {},
   "source": [
    "# Cleaning Data"
   ]
  },
  {
   "cell_type": "code",
   "execution_count": 23,
   "metadata": {},
   "outputs": [],
   "source": [
    "#Importing necessary library\n",
    "import pandas as pd # for handling data"
   ]
  },
  {
   "cell_type": "code",
   "execution_count": 24,
   "metadata": {},
   "outputs": [
    {
     "name": "stdout",
     "output_type": "stream",
     "text": [
      " Volume in drive C is New Volume\n",
      " Volume Serial Number is 24F0-9997\n",
      "\n",
      " Directory of C:\\Project\\practice\\Projects\\Real-time Twitter Survey Analysis on US Election 2020\n",
      "\n",
      "08/23/2020  05:02 AM    <DIR>          .\n",
      "08/23/2020  05:02 AM    <DIR>          ..\n",
      "08/23/2020  03:23 AM    <DIR>          .ipynb_checkpoints\n",
      "08/23/2020  03:20 AM            11,813 1. Collecting Data using Twitter API.ipynb\n",
      "08/23/2020  05:02 AM            23,513 2. Cleaning Data.ipynb\n",
      "08/23/2020  03:01 AM           310,730 biden_tweets.csv\n",
      "08/23/2020  03:05 AM           322,930 democrat_tweets.csv\n",
      "08/23/2020  03:05 AM            63,840 kamala_tweets.csv\n",
      "08/23/2020  03:07 AM            63,043 mikepence_tweets.csv\n",
      "08/23/2020  03:07 AM           325,784 republican_tweets.csv\n",
      "08/23/2020  03:07 AM           308,381 trump_tweets.csv\n",
      "               8 File(s)      1,430,034 bytes\n",
      "               3 Dir(s)  243,494,387,712 bytes free\n"
     ]
    }
   ],
   "source": [
    "ls     # Viewing files to avoid typo"
   ]
  },
  {
   "cell_type": "markdown",
   "metadata": {},
   "source": [
    "### Import & organize files"
   ]
  },
  {
   "cell_type": "code",
   "execution_count": 25,
   "metadata": {},
   "outputs": [
    {
     "data": {
      "text/html": [
       "<div>\n",
       "<style scoped>\n",
       "    .dataframe tbody tr th:only-of-type {\n",
       "        vertical-align: middle;\n",
       "    }\n",
       "\n",
       "    .dataframe tbody tr th {\n",
       "        vertical-align: top;\n",
       "    }\n",
       "\n",
       "    .dataframe thead th {\n",
       "        text-align: right;\n",
       "    }\n",
       "</style>\n",
       "<table border=\"1\" class=\"dataframe\">\n",
       "  <thead>\n",
       "    <tr style=\"text-align: right;\">\n",
       "      <th></th>\n",
       "      <th>Tweets</th>\n",
       "    </tr>\n",
       "  </thead>\n",
       "  <tbody>\n",
       "    <tr>\n",
       "      <th>3832</th>\n",
       "      <td>@politvidchannel One more Republican dumps trump!</td>\n",
       "    </tr>\n",
       "    <tr>\n",
       "      <th>2530</th>\n",
       "      <td>Democratic plan in rural, swing state counties...</td>\n",
       "    </tr>\n",
       "    <tr>\n",
       "      <th>3800</th>\n",
       "      <td>@dplaz19761 I see is as:\\n\\nTodays Republican ...</td>\n",
       "    </tr>\n",
       "    <tr>\n",
       "      <th>3741</th>\n",
       "      <td>@Acosta It is false but we should definitely t...</td>\n",
       "    </tr>\n",
       "    <tr>\n",
       "      <th>2898</th>\n",
       "      <td>Quoting @mikepence \"500,000 new manufacturing ...</td>\n",
       "    </tr>\n",
       "    <tr>\n",
       "      <th>3815</th>\n",
       "      <td>@marcorubio Over the last 3.5 years, over 50 R...</td>\n",
       "    </tr>\n",
       "    <tr>\n",
       "      <th>2331</th>\n",
       "      <td>@tkbuckels @BlairMarnell @JennaEllisEsq I see ...</td>\n",
       "    </tr>\n",
       "    <tr>\n",
       "      <th>5210</th>\n",
       "      <td>As a poor Democratic leaning person I am deepl...</td>\n",
       "    </tr>\n",
       "    <tr>\n",
       "      <th>1668</th>\n",
       "      <td>Those who have lost loved ones to Covid, trump...</td>\n",
       "    </tr>\n",
       "    <tr>\n",
       "      <th>35</th>\n",
       "      <td>Trump doesn’t believe in god he thinks he is t...</td>\n",
       "    </tr>\n",
       "  </tbody>\n",
       "</table>\n",
       "</div>"
      ],
      "text/plain": [
       "                                                 Tweets\n",
       "3832  @politvidchannel One more Republican dumps trump!\n",
       "2530  Democratic plan in rural, swing state counties...\n",
       "3800  @dplaz19761 I see is as:\\n\\nTodays Republican ...\n",
       "3741  @Acosta It is false but we should definitely t...\n",
       "2898  Quoting @mikepence \"500,000 new manufacturing ...\n",
       "3815  @marcorubio Over the last 3.5 years, over 50 R...\n",
       "2331  @tkbuckels @BlairMarnell @JennaEllisEsq I see ...\n",
       "5210  As a poor Democratic leaning person I am deepl...\n",
       "1668  Those who have lost loved ones to Covid, trump...\n",
       "35    Trump doesn’t believe in god he thinks he is t..."
      ]
     },
     "execution_count": 25,
     "metadata": {},
     "output_type": "execute_result"
    }
   ],
   "source": [
    "# Making single dataframe for republican\n",
    "\n",
    "trump = pd.read_csv('trump_tweets.csv')\n",
    "mike = pd.read_csv('mikepence_tweets.csv')\n",
    "republican = pd.read_csv('republican_tweets.csv')\n",
    "\n",
    "republican_data=pd.concat([trump,mike,republican], ignore_index=True) # Concating three dataframes\n",
    "republican_data.sample(10)   # sample of combined dataframe"
   ]
  },
  {
   "cell_type": "code",
   "execution_count": 26,
   "metadata": {},
   "outputs": [
    {
     "data": {
      "text/html": [
       "<div>\n",
       "<style scoped>\n",
       "    .dataframe tbody tr th:only-of-type {\n",
       "        vertical-align: middle;\n",
       "    }\n",
       "\n",
       "    .dataframe tbody tr th {\n",
       "        vertical-align: top;\n",
       "    }\n",
       "\n",
       "    .dataframe thead th {\n",
       "        text-align: right;\n",
       "    }\n",
       "</style>\n",
       "<table border=\"1\" class=\"dataframe\">\n",
       "  <thead>\n",
       "    <tr style=\"text-align: right;\">\n",
       "      <th></th>\n",
       "      <th>Tweets</th>\n",
       "    </tr>\n",
       "  </thead>\n",
       "  <tbody>\n",
       "    <tr>\n",
       "      <th>965</th>\n",
       "      <td>@AriBerman Trump's puppet DeJoy placed as Post...</td>\n",
       "    </tr>\n",
       "    <tr>\n",
       "      <th>2614</th>\n",
       "      <td>@BeComfy Kamala married one. \\n\\nNever mind......</td>\n",
       "    </tr>\n",
       "    <tr>\n",
       "      <th>2035</th>\n",
       "      <td>@QuinnLisaq @CNNPolitics Simply, what do you t...</td>\n",
       "    </tr>\n",
       "    <tr>\n",
       "      <th>2874</th>\n",
       "      <td>Here's my hot take, kamala harris was deadly i...</td>\n",
       "    </tr>\n",
       "    <tr>\n",
       "      <th>3609</th>\n",
       "      <td>@Jim_Jordan Another Democrat scam straight fro...</td>\n",
       "    </tr>\n",
       "    <tr>\n",
       "      <th>2564</th>\n",
       "      <td>@SarahMcord @DogfromTheThing @Jourd_ @davidsir...</td>\n",
       "    </tr>\n",
       "    <tr>\n",
       "      <th>4528</th>\n",
       "      <td>Democrat Black Lives Matter Leader: We Could '...</td>\n",
       "    </tr>\n",
       "    <tr>\n",
       "      <th>565</th>\n",
       "      <td>@EqualTx @MaryCal18844902 @overitall69 @PipiPu...</td>\n",
       "    </tr>\n",
       "    <tr>\n",
       "      <th>1113</th>\n",
       "      <td>\"What Have Democrats Done To Solve ANYTHING?\":...</td>\n",
       "    </tr>\n",
       "    <tr>\n",
       "      <th>359</th>\n",
       "      <td>A big reason to not support Joe Biden/Kamala H...</td>\n",
       "    </tr>\n",
       "  </tbody>\n",
       "</table>\n",
       "</div>"
      ],
      "text/plain": [
       "                                                 Tweets\n",
       "965   @AriBerman Trump's puppet DeJoy placed as Post...\n",
       "2614  @BeComfy Kamala married one. \\n\\nNever mind......\n",
       "2035  @QuinnLisaq @CNNPolitics Simply, what do you t...\n",
       "2874  Here's my hot take, kamala harris was deadly i...\n",
       "3609  @Jim_Jordan Another Democrat scam straight fro...\n",
       "2564  @SarahMcord @DogfromTheThing @Jourd_ @davidsir...\n",
       "4528  Democrat Black Lives Matter Leader: We Could '...\n",
       "565   @EqualTx @MaryCal18844902 @overitall69 @PipiPu...\n",
       "1113  \"What Have Democrats Done To Solve ANYTHING?\":...\n",
       "359   A big reason to not support Joe Biden/Kamala H..."
      ]
     },
     "execution_count": 26,
     "metadata": {},
     "output_type": "execute_result"
    }
   ],
   "source": [
    "# Making single dataframe for democrat\n",
    "\n",
    "biden = pd.read_csv('biden_tweets.csv')\n",
    "kamala = pd.read_csv('kamala_tweets.csv')\n",
    "democrat = pd.read_csv('democrat_tweets.csv')\n",
    "\n",
    "democrat_data=pd.concat([biden,kamala,democrat], ignore_index=True)\n",
    "democrat_data.sample(10)"
   ]
  },
  {
   "cell_type": "markdown",
   "metadata": {},
   "source": [
    "##### We created corpus for democrat and republican party tweets"
   ]
  },
  {
   "cell_type": "markdown",
   "metadata": {},
   "source": [
    "# Data Cleaning & Preprocessing\n",
    "**Common data cleaning steps on all text:**\n",
    "\n",
    "- Make text all lower case\n",
    "- Remove punctuation\n",
    "- Remove numerical values\n",
    "- Remove common non-sensical text (/n)\n",
    "- Tokenize text\n",
    "- Remove stop words\n",
    "\n",
    "**More data cleaning steps after tokenization:**\n",
    "\n",
    "- Stemming / lemmatization\n",
    "- Parts of speech tagging\n",
    "- Create bi-grams or tri-grams\n",
    "- Deal with typos\n",
    "- And more..."
   ]
  },
  {
   "cell_type": "code",
   "execution_count": 27,
   "metadata": {},
   "outputs": [
    {
     "data": {
      "text/plain": [
       "(5500, 1)"
      ]
     },
     "execution_count": 27,
     "metadata": {},
     "output_type": "execute_result"
    }
   ],
   "source": [
    "republican_data.shape   # we have 5500 rows of tweets for republican"
   ]
  },
  {
   "cell_type": "code",
   "execution_count": 28,
   "metadata": {},
   "outputs": [
    {
     "data": {
      "text/plain": [
       "(5500, 1)"
      ]
     },
     "execution_count": 28,
     "metadata": {},
     "output_type": "execute_result"
    }
   ],
   "source": [
    "democrat_data.shape    # we have 5500 rows of tweets for democrat"
   ]
  },
  {
   "cell_type": "markdown",
   "metadata": {},
   "source": [
    "**Removing duplicate rows**"
   ]
  },
  {
   "cell_type": "code",
   "execution_count": 29,
   "metadata": {},
   "outputs": [],
   "source": [
    "republican_data.drop_duplicates(subset=None, keep='first', inplace=True) # removing duplicate rows"
   ]
  },
  {
   "cell_type": "code",
   "execution_count": 30,
   "metadata": {},
   "outputs": [
    {
     "data": {
      "text/plain": [
       "(5446, 1)"
      ]
     },
     "execution_count": 30,
     "metadata": {},
     "output_type": "execute_result"
    }
   ],
   "source": [
    "republican_data.shape"
   ]
  },
  {
   "cell_type": "code",
   "execution_count": 31,
   "metadata": {},
   "outputs": [],
   "source": [
    "democrat_data.drop_duplicates(subset=None, keep='first', inplace=True)"
   ]
  },
  {
   "cell_type": "code",
   "execution_count": 32,
   "metadata": {},
   "outputs": [
    {
     "data": {
      "text/plain": [
       "(5449, 1)"
      ]
     },
     "execution_count": 32,
     "metadata": {},
     "output_type": "execute_result"
    }
   ],
   "source": [
    "democrat_data.shape"
   ]
  },
  {
   "cell_type": "markdown",
   "metadata": {},
   "source": [
    "**Handling Na/Null values**"
   ]
  },
  {
   "cell_type": "code",
   "execution_count": 33,
   "metadata": {},
   "outputs": [
    {
     "data": {
      "text/plain": [
       "Tweets    False\n",
       "dtype: bool"
      ]
     },
     "execution_count": 33,
     "metadata": {},
     "output_type": "execute_result"
    }
   ],
   "source": [
    "republican_data.isna().any()"
   ]
  },
  {
   "cell_type": "code",
   "execution_count": 34,
   "metadata": {},
   "outputs": [
    {
     "data": {
      "text/plain": [
       "Tweets    False\n",
       "dtype: bool"
      ]
     },
     "execution_count": 34,
     "metadata": {},
     "output_type": "execute_result"
    }
   ],
   "source": [
    "democrat_data.isna().any()"
   ]
  },
  {
   "cell_type": "markdown",
   "metadata": {},
   "source": [
    "**Making lowercase, removing punctuation, numerical values & so on..**"
   ]
  },
  {
   "cell_type": "code",
   "execution_count": 35,
   "metadata": {},
   "outputs": [],
   "source": [
    "import re\n",
    "import string\n",
    "\n",
    "def clean_text_round1(text):\n",
    "    '''Make text lowercase, remove text in square brackets, remove punctuation and remove words containing numbers.'''\n",
    "    text = text.lower()\n",
    "    text = re.sub('\\[.*?\\]', '', text)\n",
    "    text = re.sub('[%s]' % re.escape(string.punctuation), '', text)\n",
    "    text = re.sub('\\w*\\d\\w*', '', text)\n",
    "    return text\n",
    "\n",
    "round1 = lambda x: clean_text_round1(x)"
   ]
  },
  {
   "cell_type": "code",
   "execution_count": 36,
   "metadata": {},
   "outputs": [],
   "source": [
    "# Apply a second round of cleaning\n",
    "def clean_text_round2(text):\n",
    "    '''Get rid of some additional punctuation and non-sensical text that was missed the first time around.'''\n",
    "    text = re.sub('[‘’“”…]', '', text)\n",
    "    text = re.sub('\\n', '', text)\n",
    "    text = re.sub(r\"^https://t.co/[a-zA-Z0-9]*\\s\",\" \",text)\n",
    "    text = re.sub(r\"\\s+https://t.co/[a-zA-Z0-9]\\s+\",\" \",text)\n",
    "    text = re.sub(r\"\\s+http://t.co/[a-zA-Z0-9]*$\",\" \",text)\n",
    "    text=re.sub(r\"rt\",\" \",text)\n",
    "    text=re.sub(r'@[^\\s]+',' ',text)\n",
    "    text=re.sub(r\"that's\",\"that is\",text)\n",
    "    text=re.sub(r\"there's\",\"there is\",text)\n",
    "    text=re.sub(r\"what's\",\"what is\",text)\n",
    "    text=re.sub(r\"it's\",\"it is\",text)\n",
    "    text=re.sub(r\"who's\",\"who is\",text)\n",
    "    text=re.sub(r\"i'm\",\"i am\",text)\n",
    "    text=re.sub(r\"she's\",\"she is\",text)\n",
    "    text=re.sub(r\"he's\",\"he is\",text)\n",
    "    text=re.sub(r\"they're\",\"they are\",text)\n",
    "    text=re.sub(r\"who're\",\"who are\",text)\n",
    "    text=re.sub(r\"ain't\",\"am not\",text)\n",
    "    text=re.sub(r\"don't\",\"do not\",text)\n",
    "    text=re.sub(r\"doesn't\",\"does not\",text)\n",
    "    text=re.sub(r\"didn't\",\"did not\",text)\n",
    "    text=re.sub(r\"wouldn't\",\"would not\",text)\n",
    "    text=re.sub(r\"shouldn't\",\"should not\",text)\n",
    "    text=re.sub(r\"can't\",\"can not\",text)\n",
    "    text=re.sub(r\"isn't\",\"is not\",text)\n",
    "    text=re.sub(r\"it's\",\"it is not\",text)\n",
    "    text=re.sub(r\"isn't\",\"is not\",text)\n",
    "    text=re.sub(r\"wasn't\",\"was not\",text)\n",
    "    text=re.sub(r\"weren't\",\"were not\",text)\n",
    "    text=re.sub(r\"couldn't\",\"could not\",text)\n",
    "    text=re.sub(r\"won't\",\"will not\",text)\n",
    "    text=re.sub(r\"\\W\",\" \",text)\n",
    "    text=re.sub(r\"\\d\",\" \",text)\n",
    "    text=re.sub(r\"\\s+[a-zA-Z]\\s+\",\" \",text)\n",
    "    text=re.sub(r\"\\s+[a-zA-Z]$\",\" \",text)\n",
    "    text=re.sub(r\"^[a-z]\\s+\",\" \",text)\n",
    "    text=re.sub(r\"https\",\" \",text)\n",
    "    text=re.sub(r\"http\\s+\",\"\",text)\n",
    "    text=re.sub(r\"yifmqy\",\" \",text)\n",
    "    text=re.sub(r\"\\s+\",\" \",text)\n",
    "    text=text.strip('\\'\"')\n",
    "    return text\n",
    "\n",
    "round2 = lambda x: clean_text_round2(x)"
   ]
  },
  {
   "cell_type": "code",
   "execution_count": null,
   "metadata": {},
   "outputs": [],
   "source": [
    "#invoke garbage collector to free ram\n",
    "import gc\n",
    "gc.collect()"
   ]
  },
  {
   "cell_type": "code",
   "execution_count": 37,
   "metadata": {},
   "outputs": [],
   "source": [
    "clean_democrat_df = pd.DataFrame(democrat_data['Tweets'].apply(round1)) # accessing function using apply method\n",
    "clean_democrat_df = pd.DataFrame(democrat_data['Tweets'].apply(round2))\n",
    "\n",
    "clean_republican_df = pd.DataFrame(republican_data['Tweets'].apply(round1))\n",
    "clean_republican_df = pd.DataFrame(republican_data['Tweets'].apply(round2))\n",
    "\n",
    "del democrat_data,republican_data,trump,mike,republican,biden,kamala,democrat # Deleting unecessary dataframes"
   ]
  },
  {
   "cell_type": "code",
   "execution_count": 38,
   "metadata": {},
   "outputs": [
    {
     "data": {
      "text/html": [
       "<div>\n",
       "<style scoped>\n",
       "    .dataframe tbody tr th:only-of-type {\n",
       "        vertical-align: middle;\n",
       "    }\n",
       "\n",
       "    .dataframe tbody tr th {\n",
       "        vertical-align: top;\n",
       "    }\n",
       "\n",
       "    .dataframe thead th {\n",
       "        text-align: right;\n",
       "    }\n",
       "</style>\n",
       "<table border=\"1\" class=\"dataframe\">\n",
       "  <thead>\n",
       "    <tr style=\"text-align: right;\">\n",
       "      <th></th>\n",
       "      <th>Tweets</th>\n",
       "    </tr>\n",
       "  </thead>\n",
       "  <tbody>\n",
       "    <tr>\n",
       "      <th>276</th>\n",
       "      <td>You could be helpful instead of condescending...</td>\n",
       "    </tr>\n",
       "    <tr>\n",
       "      <th>3414</th>\n",
       "      <td>This is the democrat hierarchy Theyre special ...</td>\n",
       "    </tr>\n",
       "    <tr>\n",
       "      <th>5495</th>\n",
       "      <td>Not President Trump The Democrat thieves are ...</td>\n",
       "    </tr>\n",
       "    <tr>\n",
       "      <th>2183</th>\n",
       "      <td>Rose McGowan got it right co cphBnYbC via News</td>\n",
       "    </tr>\n",
       "    <tr>\n",
       "      <th>1264</th>\n",
       "      <td>OMG are they all delusional Drinking from tha...</td>\n",
       "    </tr>\n",
       "    <tr>\n",
       "      <th>1628</th>\n",
       "      <td>Omg Please stay safe Sending you all the rain...</td>\n",
       "    </tr>\n",
       "    <tr>\n",
       "      <th>1247</th>\n",
       "      <td>do not criticize Biden until we can safely ig...</td>\n",
       "    </tr>\n",
       "    <tr>\n",
       "      <th>851</th>\n",
       "      <td>The Biden campaign did something right co sJ m...</td>\n",
       "    </tr>\n",
       "    <tr>\n",
       "      <th>3663</th>\n",
       "      <td>It was close Not one black Democrat said they...</td>\n",
       "    </tr>\n",
       "    <tr>\n",
       "      <th>4123</th>\n",
       "      <td>Right Thats why he is leading the quickest fi...</td>\n",
       "    </tr>\n",
       "  </tbody>\n",
       "</table>\n",
       "</div>"
      ],
      "text/plain": [
       "                                                 Tweets\n",
       "276    You could be helpful instead of condescending...\n",
       "3414  This is the democrat hierarchy Theyre special ...\n",
       "5495   Not President Trump The Democrat thieves are ...\n",
       "2183     Rose McGowan got it right co cphBnYbC via News\n",
       "1264   OMG are they all delusional Drinking from tha...\n",
       "1628   Omg Please stay safe Sending you all the rain...\n",
       "1247   do not criticize Biden until we can safely ig...\n",
       "851   The Biden campaign did something right co sJ m...\n",
       "3663   It was close Not one black Democrat said they...\n",
       "4123   Right Thats why he is leading the quickest fi..."
      ]
     },
     "execution_count": 38,
     "metadata": {},
     "output_type": "execute_result"
    }
   ],
   "source": [
    "clean_democrat_df.sample(10)   # Let's take a look at our clean dataset :) "
   ]
  },
  {
   "cell_type": "code",
   "execution_count": 39,
   "metadata": {},
   "outputs": [
    {
     "data": {
      "text/html": [
       "<div>\n",
       "<style scoped>\n",
       "    .dataframe tbody tr th:only-of-type {\n",
       "        vertical-align: middle;\n",
       "    }\n",
       "\n",
       "    .dataframe tbody tr th {\n",
       "        vertical-align: top;\n",
       "    }\n",
       "\n",
       "    .dataframe thead th {\n",
       "        text-align: right;\n",
       "    }\n",
       "</style>\n",
       "<table border=\"1\" class=\"dataframe\">\n",
       "  <thead>\n",
       "    <tr style=\"text-align: right;\">\n",
       "      <th></th>\n",
       "      <th>Tweets</th>\n",
       "    </tr>\n",
       "  </thead>\n",
       "  <tbody>\n",
       "    <tr>\n",
       "      <th>1272</th>\n",
       "      <td>Harry Truman famously said THE BUCK STOPS HERE...</td>\n",
       "    </tr>\n",
       "    <tr>\n",
       "      <th>3903</th>\n",
       "      <td>No Democrat is surprised by this and no Repub...</td>\n",
       "    </tr>\n",
       "    <tr>\n",
       "      <th>1505</th>\n",
       "      <td>Mr Trump stop finger pointing all the time an...</td>\n",
       "    </tr>\n",
       "    <tr>\n",
       "      <th>657</th>\n",
       "      <td>USPS delivers no matter where amp for who USP...</td>\n",
       "    </tr>\n",
       "    <tr>\n",
       "      <th>5071</th>\n",
       "      <td>Folks have you seen the latest Republican ghou...</td>\n",
       "    </tr>\n",
       "    <tr>\n",
       "      <th>1344</th>\n",
       "      <td>Bawahahaha Trump never stayed overnight in Rus...</td>\n",
       "    </tr>\n",
       "    <tr>\n",
       "      <th>3095</th>\n",
       "      <td>Does she even realize people are starving in ...</td>\n",
       "    </tr>\n",
       "    <tr>\n",
       "      <th>225</th>\n",
       "      <td>Ladies and Gentlemen heres Vile Hateful Trump ...</td>\n",
       "    </tr>\n",
       "    <tr>\n",
       "      <th>295</th>\n",
       "      <td>Senate Russia repo proves Trump collusion was ...</td>\n",
       "    </tr>\n",
       "    <tr>\n",
       "      <th>974</th>\n",
       "      <td>NEED PROTEST OUTSIDE OF EVERY TRUMP BUSINESS</td>\n",
       "    </tr>\n",
       "  </tbody>\n",
       "</table>\n",
       "</div>"
      ],
      "text/plain": [
       "                                                 Tweets\n",
       "1272  Harry Truman famously said THE BUCK STOPS HERE...\n",
       "3903   No Democrat is surprised by this and no Repub...\n",
       "1505   Mr Trump stop finger pointing all the time an...\n",
       "657    USPS delivers no matter where amp for who USP...\n",
       "5071  Folks have you seen the latest Republican ghou...\n",
       "1344  Bawahahaha Trump never stayed overnight in Rus...\n",
       "3095   Does she even realize people are starving in ...\n",
       "225   Ladies and Gentlemen heres Vile Hateful Trump ...\n",
       "295   Senate Russia repo proves Trump collusion was ...\n",
       "974       NEED PROTEST OUTSIDE OF EVERY TRUMP BUSINESS "
      ]
     },
     "execution_count": 39,
     "metadata": {},
     "output_type": "execute_result"
    }
   ],
   "source": [
    "clean_republican_df.sample(10)"
   ]
  },
  {
   "cell_type": "markdown",
   "metadata": {},
   "source": [
    "**Removing stopwords using NLTK corpus**"
   ]
  },
  {
   "cell_type": "code",
   "execution_count": 40,
   "metadata": {},
   "outputs": [],
   "source": [
    "from nltk.corpus import stopwords\n",
    "stop = stopwords.words('english')  # since our dataset is in English language"
   ]
  },
  {
   "cell_type": "code",
   "execution_count": 41,
   "metadata": {},
   "outputs": [],
   "source": [
    "# Removing Stopword after making lowercase and split\n",
    "clean_democrat_df = clean_democrat_df['Tweets'].str.lower().str.split().apply(lambda x: [item for item in x if item not in stop])\n",
    "clean_republican_df = clean_republican_df['Tweets'].str.lower().str.split().apply(lambda x: [item for item in x if item not in stop])"
   ]
  },
  {
   "cell_type": "code",
   "execution_count": 44,
   "metadata": {},
   "outputs": [
    {
     "data": {
      "text/plain": [
       "2633    [kamala, harris, admitted, radical, running, c...\n",
       "5071    [democratic, pa, betrayed, people, baltimore, ...\n",
       "578                       [china, paid, biden, look, way]\n",
       "4619      [except, tweet, retweeted, evid, co, tsn, mhvf]\n",
       "2385    [im, black, doesnt, mean, vote, democrat, im, ...\n",
       "Name: Tweets, dtype: object"
      ]
     },
     "execution_count": 44,
     "metadata": {},
     "output_type": "execute_result"
    }
   ],
   "source": [
    "clean_democrat_df.sample(5) # Looks like python list -_- Let's try to fix this"
   ]
  },
  {
   "cell_type": "code",
   "execution_count": 52,
   "metadata": {},
   "outputs": [
    {
     "data": {
      "text/html": [
       "<div>\n",
       "<style scoped>\n",
       "    .dataframe tbody tr th:only-of-type {\n",
       "        vertical-align: middle;\n",
       "    }\n",
       "\n",
       "    .dataframe tbody tr th {\n",
       "        vertical-align: top;\n",
       "    }\n",
       "\n",
       "    .dataframe thead th {\n",
       "        text-align: right;\n",
       "    }\n",
       "</style>\n",
       "<table border=\"1\" class=\"dataframe\">\n",
       "  <thead>\n",
       "    <tr style=\"text-align: right;\">\n",
       "      <th></th>\n",
       "      <th>Tweets</th>\n",
       "    </tr>\n",
       "  </thead>\n",
       "  <tbody>\n",
       "    <tr>\n",
       "      <th>4960</th>\n",
       "      <td>[sc, democrat, mayoral, candidate, staged, kid...</td>\n",
       "    </tr>\n",
       "    <tr>\n",
       "      <th>2375</th>\n",
       "      <td>[woman, come, forward, glaring, lights, focus,...</td>\n",
       "    </tr>\n",
       "    <tr>\n",
       "      <th>4390</th>\n",
       "      <td>[happening, democrat, controlled, areas, feder...</td>\n",
       "    </tr>\n",
       "    <tr>\n",
       "      <th>2460</th>\n",
       "      <td>[biden, harris, may, forge, new, path, educati...</td>\n",
       "    </tr>\n",
       "    <tr>\n",
       "      <th>3670</th>\n",
       "      <td>[fake, hate, black, democrat, faked, filmed, b...</td>\n",
       "    </tr>\n",
       "  </tbody>\n",
       "</table>\n",
       "</div>"
      ],
      "text/plain": [
       "                                                 Tweets\n",
       "4960  [sc, democrat, mayoral, candidate, staged, kid...\n",
       "2375  [woman, come, forward, glaring, lights, focus,...\n",
       "4390  [happening, democrat, controlled, areas, feder...\n",
       "2460  [biden, harris, may, forge, new, path, educati...\n",
       "3670  [fake, hate, black, democrat, faked, filmed, b..."
      ]
     },
     "execution_count": 52,
     "metadata": {},
     "output_type": "execute_result"
    }
   ],
   "source": [
    "clean_democrat=pd.DataFrame(clean_democrat_df)\n",
    "clean_democrat.sample(5)"
   ]
  },
  {
   "cell_type": "code",
   "execution_count": 55,
   "metadata": {},
   "outputs": [],
   "source": [
    "clean_republican=pd.DataFrame(clean_republican_df)"
   ]
  },
  {
   "cell_type": "markdown",
   "metadata": {},
   "source": [
    "Whooo! Our dataset is clean now. :)"
   ]
  },
  {
   "cell_type": "markdown",
   "metadata": {},
   "source": [
    "**Saving cleaned Data**"
   ]
  },
  {
   "cell_type": "code",
   "execution_count": 54,
   "metadata": {},
   "outputs": [],
   "source": [
    "clean_democrat.to_csv('clean_democrat.csv',encoding='utf-8', index=False)\n",
    "clean_republican.to_csv('clean_republican.csv',encoding='utf-8', index=False)"
   ]
  },
  {
   "cell_type": "code",
   "execution_count": 56,
   "metadata": {},
   "outputs": [
    {
     "data": {
      "text/plain": [
       "142"
      ]
     },
     "execution_count": 56,
     "metadata": {},
     "output_type": "execute_result"
    }
   ],
   "source": [
    "#invoke garbage collector to free ram\n",
    "import gc\n",
    "gc.collect()"
   ]
  }
 ],
 "metadata": {
  "kernelspec": {
   "display_name": "Python 3",
   "language": "python",
   "name": "python3"
  },
  "language_info": {
   "codemirror_mode": {
    "name": "ipython",
    "version": 3
   },
   "file_extension": ".py",
   "mimetype": "text/x-python",
   "name": "python",
   "nbconvert_exporter": "python",
   "pygments_lexer": "ipython3",
   "version": "3.7.7"
  }
 },
 "nbformat": 4,
 "nbformat_minor": 4
}
