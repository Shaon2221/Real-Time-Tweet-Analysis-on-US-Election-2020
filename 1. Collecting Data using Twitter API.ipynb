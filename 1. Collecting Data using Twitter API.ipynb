{
 "cells": [
  {
   "cell_type": "markdown",
   "metadata": {},
   "source": [
    "# Collecting Data"
   ]
  },
  {
   "cell_type": "markdown",
   "metadata": {},
   "source": [
    "This data was collected on 22/08/2020. Data was collected by specific keywords for each party."
   ]
  },
  {
   "cell_type": "markdown",
   "metadata": {},
   "source": [
    "### Import necessary libraries"
   ]
  },
  {
   "cell_type": "code",
   "execution_count": 1,
   "metadata": {},
   "outputs": [],
   "source": [
    "import tweepy # to access twitter api\n",
    "import pandas as pd # to handle data"
   ]
  },
  {
   "cell_type": "markdown",
   "metadata": {},
   "source": [
    "### Twitter API authentication"
   ]
  },
  {
   "attachments": {},
   "cell_type": "markdown",
   "metadata": {},
   "source": [
    "Since, Twitter API accesss Consumer key is sensitive and not accessable for everyone. I removed this part. It looks like something below:\n",
    "<img src='https://raw.githubusercontent.com/Shaon2221/Real-time-Twitter-Survey-Analysis-on-US-Election-2020/master/AccessTwitterAPI.png'>"
   ]
  },
  {
   "cell_type": "code",
   "execution_count": 14,
   "metadata": {},
   "outputs": [],
   "source": [
    "# Authentication and access using keys:\n",
    "auth = tweepy.OAuthHandler(CONSUMER_KEY, CONSUMER_SECRET)\n",
    "auth.set_access_token(ACCESS_TOKEN, ACCESS_SECRET)\n",
    "api = tweepy.API(auth, wait_on_rate_limit=True)"
   ]
  },
  {
   "cell_type": "markdown",
   "metadata": {},
   "source": [
    "### Collecting tweets using API"
   ]
  },
  {
   "cell_type": "code",
   "execution_count": 5,
   "metadata": {},
   "outputs": [],
   "source": [
    "# Keywords for two major parties in USA\n",
    "Democrat=['biden','kamala','democrat']\n",
    "Republican=['trump','mikepence','republican']"
   ]
  },
  {
   "cell_type": "markdown",
   "metadata": {},
   "source": [
    "**For Democrats**"
   ]
  },
  {
   "cell_type": "code",
   "execution_count": 15,
   "metadata": {},
   "outputs": [],
   "source": [
    "# Data collecting for keyword biden\n",
    "biden_tweets=[]\n",
    "for tweet in tweepy.Cursor(api.search,q=Democrat[0]+\" -filter:retweets\",lang='en',result_type='recent').items(2500):\n",
    "        biden_tweets.append(tweet.text)\n",
    "\n",
    "# Data collecting for keyword democrat\n",
    "democrat_tweets=[]\n",
    "for tweet in tweepy.Cursor(api.search,q=Democrat[2]+\" -filter:retweets\",lang='en',result_type='recent').items(2500):\n",
    "        democrat_tweets.append(tweet.text)\n",
    "        \n",
    "# Data collecting for keyword kamala\n",
    "kamala_tweets=[]\n",
    "for tweet in tweepy.Cursor(api.search,q=Democrat[1]+\" -filter:retweets\",lang='en',result_type='recent').items(500):\n",
    "        kamala_tweets.append(tweet.text)"
   ]
  },
  {
   "cell_type": "markdown",
   "metadata": {},
   "source": [
    "**For Republican**"
   ]
  },
  {
   "cell_type": "code",
   "execution_count": 18,
   "metadata": {},
   "outputs": [],
   "source": [
    "# Data collecting for keyword trump\n",
    "trump_tweets=[]\n",
    "for tweet in tweepy.Cursor(api.search,q=Republican[0]+\" -filter:retweets\",lang='en',result_type='recent').items(2500):\n",
    "        trump_tweets.append(tweet.text)\n",
    "\n",
    "# Data collecting for keyword republican\n",
    "republican_tweets=[]\n",
    "for tweet in tweepy.Cursor(api.search,q=Republican[2]+\" -filter:retweets\",lang='en',result_type='recent').items(2500):\n",
    "        republican_tweets.append(tweet.text)\n",
    "    \n",
    "# Data collecting for keyword mike pence\n",
    "mikepence_tweets=[]\n",
    "for tweet in tweepy.Cursor(api.search,q=Republican[1]+\" -filter:retweets\",lang='en',result_type='recent').items(500):\n",
    "        mikepence_tweets.append(tweet.text)"
   ]
  },
  {
   "cell_type": "code",
   "execution_count": 30,
   "metadata": {},
   "outputs": [
    {
     "data": {
      "text/plain": [
       "11000"
      ]
     },
     "execution_count": 30,
     "metadata": {},
     "output_type": "execute_result"
    }
   ],
   "source": [
    "len(biden_tweets)+len(kamala_tweets)+len(democrat_tweets)+len(trump_tweets)+len(mikepence_tweets)+len(republican_tweets)"
   ]
  },
  {
   "cell_type": "markdown",
   "metadata": {},
   "source": [
    "So, we fetched 11000 tweets so far. 5500 for democrat and 5500 for republican."
   ]
  },
  {
   "cell_type": "code",
   "execution_count": 44,
   "metadata": {},
   "outputs": [
    {
     "data": {
      "text/html": [
       "<div>\n",
       "<style scoped>\n",
       "    .dataframe tbody tr th:only-of-type {\n",
       "        vertical-align: middle;\n",
       "    }\n",
       "\n",
       "    .dataframe tbody tr th {\n",
       "        vertical-align: top;\n",
       "    }\n",
       "\n",
       "    .dataframe thead th {\n",
       "        text-align: right;\n",
       "    }\n",
       "</style>\n",
       "<table border=\"1\" class=\"dataframe\">\n",
       "  <thead>\n",
       "    <tr style=\"text-align: right;\">\n",
       "      <th></th>\n",
       "      <th>Tweets</th>\n",
       "    </tr>\n",
       "  </thead>\n",
       "  <tbody>\n",
       "    <tr>\n",
       "      <th>1470</th>\n",
       "      <td>Biden leads over Trump in five battleground st...</td>\n",
       "    </tr>\n",
       "    <tr>\n",
       "      <th>1843</th>\n",
       "      <td>@iammix24 Heard that. One of her more stupid r...</td>\n",
       "    </tr>\n",
       "    <tr>\n",
       "      <th>1936</th>\n",
       "      <td>Sen. Bob Casey on Biden's shrinking lead in ba...</td>\n",
       "    </tr>\n",
       "    <tr>\n",
       "      <th>359</th>\n",
       "      <td>A big reason to not support Joe Biden/Kamala H...</td>\n",
       "    </tr>\n",
       "    <tr>\n",
       "      <th>731</th>\n",
       "      <td>@JjMerica @kramer_bo @RyanAFournier Did Biden ...</td>\n",
       "    </tr>\n",
       "    <tr>\n",
       "      <th>1966</th>\n",
       "      <td>And community organizing is racist in reverse ...</td>\n",
       "    </tr>\n",
       "    <tr>\n",
       "      <th>2325</th>\n",
       "      <td>Interesting;\\nAfter 45 years\\nNOT A SINGLE ENT...</td>\n",
       "    </tr>\n",
       "    <tr>\n",
       "      <th>1768</th>\n",
       "      <td>@bweiny @216_Wildboy @PJColey2 @jbook37 Wait, ...</td>\n",
       "    </tr>\n",
       "    <tr>\n",
       "      <th>322</th>\n",
       "      <td>@CNN @FridaGhitis @CNNOpinion Same old BS from...</td>\n",
       "    </tr>\n",
       "    <tr>\n",
       "      <th>475</th>\n",
       "      <td>I love these Mike Huckabee videos. (By the way...</td>\n",
       "    </tr>\n",
       "  </tbody>\n",
       "</table>\n",
       "</div>"
      ],
      "text/plain": [
       "                                                 Tweets\n",
       "1470  Biden leads over Trump in five battleground st...\n",
       "1843  @iammix24 Heard that. One of her more stupid r...\n",
       "1936  Sen. Bob Casey on Biden's shrinking lead in ba...\n",
       "359   A big reason to not support Joe Biden/Kamala H...\n",
       "731   @JjMerica @kramer_bo @RyanAFournier Did Biden ...\n",
       "1966  And community organizing is racist in reverse ...\n",
       "2325  Interesting;\\nAfter 45 years\\nNOT A SINGLE ENT...\n",
       "1768  @bweiny @216_Wildboy @PJColey2 @jbook37 Wait, ...\n",
       "322   @CNN @FridaGhitis @CNNOpinion Same old BS from...\n",
       "475   I love these Mike Huckabee videos. (By the way..."
      ]
     },
     "execution_count": 44,
     "metadata": {},
     "output_type": "execute_result"
    }
   ],
   "source": [
    "biden_df = pd.DataFrame(data=[tweet for tweet in biden_tweets], columns=['Tweets'])\n",
    "biden_df.sample(10)  # Let's take a look at the sample dataset. Here is 10 sample of Biden dataset"
   ]
  },
  {
   "cell_type": "code",
   "execution_count": 33,
   "metadata": {},
   "outputs": [
    {
     "data": {
      "text/plain": [
       "Tweets    False\n",
       "dtype: bool"
      ]
     },
     "execution_count": 33,
     "metadata": {},
     "output_type": "execute_result"
    }
   ],
   "source": [
    "biden_df.isna().any()"
   ]
  },
  {
   "cell_type": "code",
   "execution_count": 34,
   "metadata": {},
   "outputs": [
    {
     "data": {
      "text/plain": [
       "(2500, 1)"
      ]
     },
     "execution_count": 34,
     "metadata": {},
     "output_type": "execute_result"
    }
   ],
   "source": [
    "biden_df.shape"
   ]
  },
  {
   "cell_type": "markdown",
   "metadata": {},
   "source": [
    "### Saving Data to csv format"
   ]
  },
  {
   "cell_type": "code",
   "execution_count": 35,
   "metadata": {},
   "outputs": [],
   "source": [
    "biden_df.to_csv('biden_tweets.csv', encoding='utf-8', index=False)"
   ]
  },
  {
   "cell_type": "code",
   "execution_count": 40,
   "metadata": {},
   "outputs": [],
   "source": [
    "kamala_df = pd.DataFrame(data=[tweet for tweet in kamala_tweets], columns=['Tweets'])\n",
    "kamala_df.to_csv('kamala_tweets.csv', encoding='utf-8', index=False)\n",
    "\n",
    "democrat_df = pd.DataFrame(data=[tweet for tweet in democrat_tweets], columns=['Tweets'])\n",
    "democrat_df.to_csv('democrat_tweets.csv', encoding='utf-8', index=False)"
   ]
  },
  {
   "cell_type": "code",
   "execution_count": 41,
   "metadata": {},
   "outputs": [],
   "source": [
    "trump_df = pd.DataFrame(data=[tweet for tweet in trump_tweets], columns=['Tweets'])\n",
    "trump_df.to_csv('trump_tweets.csv', encoding='utf-8', index=False)\n",
    "\n",
    "mike_df = pd.DataFrame(data=[tweet for tweet in mikepence_tweets], columns=['Tweets'])\n",
    "mike_df.to_csv('mikepence_tweets.csv', encoding='utf-8', index=False)\n",
    "\n",
    "republican_df = pd.DataFrame(data=[tweet for tweet in republican_tweets], columns=['Tweets'])\n",
    "republican_df.to_csv('republican_tweets.csv', encoding='utf-8', index=False)"
   ]
  },
  {
   "cell_type": "code",
   "execution_count": 43,
   "metadata": {},
   "outputs": [
    {
     "name": "stdout",
     "output_type": "stream",
     "text": [
      " Volume in drive C is New Volume\n",
      " Volume Serial Number is 24F0-9997\n",
      "\n",
      " Directory of C:\\Project\\practice\\Projects\\Real-time Twitter Survey Analysis on US Election 2020\n",
      "\n",
      "08/23/2020  03:07 AM    <DIR>          .\n",
      "08/23/2020  03:07 AM    <DIR>          ..\n",
      "08/23/2020  12:16 AM    <DIR>          .ipynb_checkpoints\n",
      "08/23/2020  03:06 AM             8,468 1. Collecting Data using Twitter API.ipynb\n",
      "08/23/2020  03:01 AM           310,730 biden_tweets.csv\n",
      "08/23/2020  03:05 AM           322,930 democrat_tweets.csv\n",
      "08/23/2020  03:05 AM            63,840 kamala_tweets.csv\n",
      "08/23/2020  03:07 AM            63,043 mikepence_tweets.csv\n",
      "08/23/2020  03:07 AM           325,784 republican_tweets.csv\n",
      "08/23/2020  03:07 AM           308,381 trump_tweets.csv\n",
      "               7 File(s)      1,403,176 bytes\n",
      "               3 Dir(s)  243,503,595,520 bytes free\n"
     ]
    }
   ],
   "source": [
    "ls  # Viewing whether csv file saved properly or not. Looks like everything okay for now"
   ]
  }
 ],
 "metadata": {
  "kernelspec": {
   "display_name": "Python 3",
   "language": "python",
   "name": "python3"
  },
  "language_info": {
   "codemirror_mode": {
    "name": "ipython",
    "version": 3
   },
   "file_extension": ".py",
   "mimetype": "text/x-python",
   "name": "python",
   "nbconvert_exporter": "python",
   "pygments_lexer": "ipython3",
   "version": "3.7.7"
  }
 },
 "nbformat": 4,
 "nbformat_minor": 4
}
